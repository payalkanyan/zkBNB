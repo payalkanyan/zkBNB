{
 "cells": [
  {
   "cell_type": "code",
   "execution_count": 1,
   "id": "initial_id",
   "metadata": {
    "collapsed": true,
    "ExecuteTime": {
     "end_time": "2023-10-21T14:09:36.620255Z",
     "start_time": "2023-10-21T14:09:33.143947Z"
    }
   },
   "outputs": [
    {
     "name": "stdout",
     "output_type": "stream",
     "text": [
      "./data/processed_full.csv\n",
      "./data/processed.csv\n",
      "./data/light_data.csv\n",
      "./data/light.csv\n",
      "./data/data.csv\n",
      "./data/processed\n",
      "./data/lightdata.csv\n"
     ]
    }
   ],
   "source": [
    "import re    # for regular expressions \n",
    "import nltk  # for text manipulation \n",
    "from nltk.corpus import stopwords\n",
    "import string # for text manipulation \n",
    "import warnings\n",
    "import pandas as pd # for data manipulation \n",
    "import numpy as np\n",
    "import matplotlib.pyplot as plt\n",
    "\n",
    "pd.set_option(\"display.max_colwidth\", 200)\n",
    "warnings.filterwarnings(\"ignore\") #ignore warnings\n",
    "\n",
    "# import ssl\n",
    "# \n",
    "# try:\n",
    "#     _create_unverified_https_context = ssl._create_unverified_context\n",
    "# except AttributeError:\n",
    "#     pass\n",
    "# else:\n",
    "#     ssl._create_default_https_context = _create_unverified_https_context\n",
    "# \n",
    "# nltk.download()\n",
    "\n",
    "import os\n",
    "for dirname, _, filenames in os.walk('./data'):\n",
    "    for filename in filenames:\n",
    "        print(os.path.join(dirname, filename))\n",
    "\n",
    "%matplotlib inline"
   ]
  },
  {
   "cell_type": "code",
   "execution_count": 21,
   "outputs": [
    {
     "data": {
      "text/plain": "         target  \\\n1108129       1   \n1078742       1   \n107003        0   \n158421        0   \n144623        0   \n\n                                                                                                                                   TweetText  \n1108129  in bed. waiting for the kids to wake up. listening to hubby make breakfast. nice. if only I could fall back asleep it'd be perfect   \n1078742                                                                                               @IntentOfTheDay Happy Follow Friday!    \n107003                                                       @moonfrye how about jelly beans? I like most of them but hate the licorice one   \n158421                                                                         It's no longer sunny in Seattle.  http://tr.im/sunnyinseattle  \n144623                                                      a lot of stuff to do today. Driving up to gainesville to get my blood work done   ",
      "text/html": "<div>\n<style scoped>\n    .dataframe tbody tr th:only-of-type {\n        vertical-align: middle;\n    }\n\n    .dataframe tbody tr th {\n        vertical-align: top;\n    }\n\n    .dataframe thead th {\n        text-align: right;\n    }\n</style>\n<table border=\"1\" class=\"dataframe\">\n  <thead>\n    <tr style=\"text-align: right;\">\n      <th></th>\n      <th>target</th>\n      <th>TweetText</th>\n    </tr>\n  </thead>\n  <tbody>\n    <tr>\n      <th>1108129</th>\n      <td>1</td>\n      <td>in bed. waiting for the kids to wake up. listening to hubby make breakfast. nice. if only I could fall back asleep it'd be perfect</td>\n    </tr>\n    <tr>\n      <th>1078742</th>\n      <td>1</td>\n      <td>@IntentOfTheDay Happy Follow Friday!</td>\n    </tr>\n    <tr>\n      <th>107003</th>\n      <td>0</td>\n      <td>@moonfrye how about jelly beans? I like most of them but hate the licorice one</td>\n    </tr>\n    <tr>\n      <th>158421</th>\n      <td>0</td>\n      <td>It's no longer sunny in Seattle.  http://tr.im/sunnyinseattle</td>\n    </tr>\n    <tr>\n      <th>144623</th>\n      <td>0</td>\n      <td>a lot of stuff to do today. Driving up to gainesville to get my blood work done</td>\n    </tr>\n  </tbody>\n</table>\n</div>"
     },
     "execution_count": 21,
     "metadata": {},
     "output_type": "execute_result"
    }
   ],
   "source": [
    "data = pd.read_csv(\"./data/data.csv\",encoding='latin-1')\n",
    "data.head()\n",
    "data = data.sample(frac=1)\n",
    "DATASET_COLUMNS = [\"target\", \"ids\", \"date\", \"flag\", \"user\", \"TweetText\"]\n",
    "data.columns = DATASET_COLUMNS\n",
    "data.drop(['ids','date','flag','user'],axis = 1,inplace = True)\n",
    "data = data[:10000]\n",
    "data.loc[data['target'] == 4, 'target'] = 1\n",
    "data.head()"
   ],
   "metadata": {
    "collapsed": false,
    "ExecuteTime": {
     "end_time": "2023-10-21T14:22:29.119409Z",
     "start_time": "2023-10-21T14:22:25.558677Z"
    }
   },
   "id": "b6d551f97e1d5645"
  },
  {
   "cell_type": "code",
   "execution_count": 22,
   "outputs": [],
   "source": [
    "stopwords_list=stopwords.words('english')\n",
    "from nltk.stem.porter import *\n",
    "stemmer = PorterStemmer()\n",
    "def remove_stopwords(text):\n",
    "    clean_text=' '.join([word for word in text.split() if word not in stopwords_list])\n",
    "    return clean_text"
   ],
   "metadata": {
    "collapsed": false,
    "ExecuteTime": {
     "end_time": "2023-10-21T14:22:30.023413Z",
     "start_time": "2023-10-21T14:22:30.019261Z"
    }
   },
   "id": "957d341a25c7ca9"
  },
  {
   "cell_type": "code",
   "execution_count": 23,
   "outputs": [],
   "source": [
    "# data = pd.concat([positif_data,negative_data],axis = 0)\n",
    "data['Clean_TweetText'] = data['TweetText'].str.replace(\"@\", \"\")\n",
    "data['Clean_TweetText'] = data['Clean_TweetText'].str.replace(r\"http\\S+\", \"\")\n",
    "data['Clean_TweetText'] = data['Clean_TweetText'].str.replace(\"[^a-zA-Z]\", \" \")\n",
    "#data['Clean_TweetText'] = data['Clean_TweetText'].apply(lambda text : remove_stopwords(text.lower()))\n",
    "#data['Clean_TweetText'] = data['Clean_TweetText'].apply(lambda x: ' '.join([w for w in x.split() if len(w)>3]))\n",
    "data['Clean_TweetText'] = data['Clean_TweetText'].apply(lambda x: x.split())\n",
    "data['Clean_TweetText'] = data['Clean_TweetText'].apply(lambda x: [stemmer.stem(i) for i in x])\n",
    "data['Clean_TweetText'] = data['Clean_TweetText'].apply(lambda x: ' '.join([w for w in x]))"
   ],
   "metadata": {
    "collapsed": false,
    "ExecuteTime": {
     "end_time": "2023-10-21T14:22:32.518768Z",
     "start_time": "2023-10-21T14:22:30.779038Z"
    }
   },
   "id": "d9d07808fd6fefbc"
  },
  {
   "cell_type": "code",
   "execution_count": 24,
   "outputs": [],
   "source": [
    "data = data.drop(labels=['TweetText'], axis=1)  "
   ],
   "metadata": {
    "collapsed": false,
    "ExecuteTime": {
     "end_time": "2023-10-21T14:22:33.316868Z",
     "start_time": "2023-10-21T14:22:33.304693Z"
    }
   },
   "id": "b8c5ed6cdbc05281"
  },
  {
   "cell_type": "code",
   "execution_count": 25,
   "outputs": [
    {
     "data": {
      "text/plain": "         target  \\\n1108129       1   \n1078742       1   \n107003        0   \n158421        0   \n144623        0   \n\n                                                                                                                     Clean_TweetText  \n1108129  in bed. wait for the kid to wake up. listen to hubbi make breakfast. nice. if onli i could fall back asleep it'd be perfect  \n1078742                                                                                          intentoftheday happi follow friday!  \n107003                                                   moonfry how about jelli beans? i like most of them but hate the licoric one  \n158421                                                                    it' no longer sunni in seattle. http://tr.im/sunnyinseattl  \n144623                                                   a lot of stuff to do today. drive up to gainesvil to get my blood work done  ",
      "text/html": "<div>\n<style scoped>\n    .dataframe tbody tr th:only-of-type {\n        vertical-align: middle;\n    }\n\n    .dataframe tbody tr th {\n        vertical-align: top;\n    }\n\n    .dataframe thead th {\n        text-align: right;\n    }\n</style>\n<table border=\"1\" class=\"dataframe\">\n  <thead>\n    <tr style=\"text-align: right;\">\n      <th></th>\n      <th>target</th>\n      <th>Clean_TweetText</th>\n    </tr>\n  </thead>\n  <tbody>\n    <tr>\n      <th>1108129</th>\n      <td>1</td>\n      <td>in bed. wait for the kid to wake up. listen to hubbi make breakfast. nice. if onli i could fall back asleep it'd be perfect</td>\n    </tr>\n    <tr>\n      <th>1078742</th>\n      <td>1</td>\n      <td>intentoftheday happi follow friday!</td>\n    </tr>\n    <tr>\n      <th>107003</th>\n      <td>0</td>\n      <td>moonfry how about jelli beans? i like most of them but hate the licoric one</td>\n    </tr>\n    <tr>\n      <th>158421</th>\n      <td>0</td>\n      <td>it' no longer sunni in seattle. http://tr.im/sunnyinseattl</td>\n    </tr>\n    <tr>\n      <th>144623</th>\n      <td>0</td>\n      <td>a lot of stuff to do today. drive up to gainesvil to get my blood work done</td>\n    </tr>\n  </tbody>\n</table>\n</div>"
     },
     "execution_count": 25,
     "metadata": {},
     "output_type": "execute_result"
    }
   ],
   "source": [
    "data.head()"
   ],
   "metadata": {
    "collapsed": false,
    "ExecuteTime": {
     "end_time": "2023-10-21T14:22:33.899448Z",
     "start_time": "2023-10-21T14:22:33.893880Z"
    }
   },
   "id": "5bfe0939bfc4a0d7"
  },
  {
   "cell_type": "code",
   "execution_count": 7,
   "outputs": [],
   "source": [
    "data.to_csv('./data/processed_full.csv', sep=\",\",quotechar='\"',index=False)"
   ],
   "metadata": {
    "collapsed": false,
    "ExecuteTime": {
     "end_time": "2023-10-21T14:10:06.294498Z",
     "start_time": "2023-10-21T14:10:06.135023Z"
    }
   },
   "id": "4e8585402c8dbbf9"
  },
  {
   "cell_type": "code",
   "execution_count": 8,
   "outputs": [
    {
     "data": {
      "text/plain": "              target\ncount  100000.000000\nmean        0.504120\nstd         0.499986\nmin         0.000000\n25%         0.000000\n50%         1.000000\n75%         1.000000\nmax         1.000000",
      "text/html": "<div>\n<style scoped>\n    .dataframe tbody tr th:only-of-type {\n        vertical-align: middle;\n    }\n\n    .dataframe tbody tr th {\n        vertical-align: top;\n    }\n\n    .dataframe thead th {\n        text-align: right;\n    }\n</style>\n<table border=\"1\" class=\"dataframe\">\n  <thead>\n    <tr style=\"text-align: right;\">\n      <th></th>\n      <th>target</th>\n    </tr>\n  </thead>\n  <tbody>\n    <tr>\n      <th>count</th>\n      <td>100000.000000</td>\n    </tr>\n    <tr>\n      <th>mean</th>\n      <td>0.504120</td>\n    </tr>\n    <tr>\n      <th>std</th>\n      <td>0.499986</td>\n    </tr>\n    <tr>\n      <th>min</th>\n      <td>0.000000</td>\n    </tr>\n    <tr>\n      <th>25%</th>\n      <td>0.000000</td>\n    </tr>\n    <tr>\n      <th>50%</th>\n      <td>1.000000</td>\n    </tr>\n    <tr>\n      <th>75%</th>\n      <td>1.000000</td>\n    </tr>\n    <tr>\n      <th>max</th>\n      <td>1.000000</td>\n    </tr>\n  </tbody>\n</table>\n</div>"
     },
     "execution_count": 8,
     "metadata": {},
     "output_type": "execute_result"
    }
   ],
   "source": [
    "data.describe()"
   ],
   "metadata": {
    "collapsed": false,
    "ExecuteTime": {
     "end_time": "2023-10-21T14:10:06.924885Z",
     "start_time": "2023-10-21T14:10:06.916003Z"
    }
   },
   "id": "445567fba544d546"
  },
  {
   "cell_type": "code",
   "execution_count": null,
   "outputs": [],
   "source": [],
   "metadata": {
    "collapsed": false
   },
   "id": "e7115c2d75216cec"
  }
 ],
 "metadata": {
  "kernelspec": {
   "display_name": "Python 3",
   "language": "python",
   "name": "python3"
  },
  "language_info": {
   "codemirror_mode": {
    "name": "ipython",
    "version": 2
   },
   "file_extension": ".py",
   "mimetype": "text/x-python",
   "name": "python",
   "nbconvert_exporter": "python",
   "pygments_lexer": "ipython2",
   "version": "2.7.6"
  }
 },
 "nbformat": 4,
 "nbformat_minor": 5
}
